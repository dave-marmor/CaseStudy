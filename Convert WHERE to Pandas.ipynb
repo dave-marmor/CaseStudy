{
 "cells": [
  {
   "cell_type": "code",
   "execution_count": 366,
   "metadata": {},
   "outputs": [],
   "source": [
    "import pandas as pd\n",
    "import re\n",
    "import os\n",
    "os.chdir('/Users/D-Money/Desktop/Python')"
   ]
  },
  {
   "cell_type": "code",
   "execution_count": 367,
   "metadata": {},
   "outputs": [
    {
     "data": {
      "text/html": [
       "<div>\n",
       "<style scoped>\n",
       "    .dataframe tbody tr th:only-of-type {\n",
       "        vertical-align: middle;\n",
       "    }\n",
       "\n",
       "    .dataframe tbody tr th {\n",
       "        vertical-align: top;\n",
       "    }\n",
       "\n",
       "    .dataframe thead th {\n",
       "        text-align: right;\n",
       "    }\n",
       "</style>\n",
       "<table border=\"1\" class=\"dataframe\">\n",
       "  <thead>\n",
       "    <tr style=\"text-align: right;\">\n",
       "      <th></th>\n",
       "      <th>Table</th>\n",
       "      <th>Where</th>\n",
       "    </tr>\n",
       "  </thead>\n",
       "  <tbody>\n",
       "    <tr>\n",
       "      <th>0</th>\n",
       "      <td>FactSalesDocHeader</td>\n",
       "      <td>WHERE A in (1, 2) AND B is not NULL AND D is n...</td>\n",
       "    </tr>\n",
       "    <tr>\n",
       "      <th>1</th>\n",
       "      <td>FactSalesDocItem</td>\n",
       "      <td>WHERE SalesCode = 1</td>\n",
       "    </tr>\n",
       "  </tbody>\n",
       "</table>\n",
       "</div>"
      ],
      "text/plain": [
       "                Table                                              Where\n",
       "0  FactSalesDocHeader  WHERE A in (1, 2) AND B is not NULL AND D is n...\n",
       "1    FactSalesDocItem                                WHERE SalesCode = 1"
      ]
     },
     "execution_count": 367,
     "metadata": {},
     "output_type": "execute_result"
    }
   ],
   "source": [
    "param = pd.read_excel('Parameters.xlsx', sheet_name = 'Params')\n",
    "param"
   ]
  },
  {
   "cell_type": "code",
   "execution_count": 368,
   "metadata": {},
   "outputs": [
    {
     "data": {
      "text/plain": [
       "'WHERE A in (1, 2) AND B is not NULL AND D is not nUll and D in (1, 7)'"
      ]
     },
     "execution_count": 368,
     "metadata": {},
     "output_type": "execute_result"
    }
   ],
   "source": [
    "a = param.iloc[0, 1]\n",
    "a"
   ]
  },
  {
   "cell_type": "code",
   "execution_count": 369,
   "metadata": {},
   "outputs": [
    {
     "data": {
      "text/html": [
       "<div>\n",
       "<style scoped>\n",
       "    .dataframe tbody tr th:only-of-type {\n",
       "        vertical-align: middle;\n",
       "    }\n",
       "\n",
       "    .dataframe tbody tr th {\n",
       "        vertical-align: top;\n",
       "    }\n",
       "\n",
       "    .dataframe thead th {\n",
       "        text-align: right;\n",
       "    }\n",
       "</style>\n",
       "<table border=\"1\" class=\"dataframe\">\n",
       "  <thead>\n",
       "    <tr style=\"text-align: right;\">\n",
       "      <th></th>\n",
       "      <th>A</th>\n",
       "      <th>B</th>\n",
       "      <th>C</th>\n",
       "      <th>D</th>\n",
       "    </tr>\n",
       "  </thead>\n",
       "  <tbody>\n",
       "    <tr>\n",
       "      <th>0</th>\n",
       "      <td>1</td>\n",
       "      <td>a</td>\n",
       "      <td>2</td>\n",
       "      <td>1.0</td>\n",
       "    </tr>\n",
       "    <tr>\n",
       "      <th>1</th>\n",
       "      <td>1</td>\n",
       "      <td>b</td>\n",
       "      <td>4</td>\n",
       "      <td>2.0</td>\n",
       "    </tr>\n",
       "    <tr>\n",
       "      <th>2</th>\n",
       "      <td>1</td>\n",
       "      <td>a</td>\n",
       "      <td>6</td>\n",
       "      <td>NaN</td>\n",
       "    </tr>\n",
       "    <tr>\n",
       "      <th>3</th>\n",
       "      <td>2</td>\n",
       "      <td>b</td>\n",
       "      <td>8</td>\n",
       "      <td>7.0</td>\n",
       "    </tr>\n",
       "    <tr>\n",
       "      <th>4</th>\n",
       "      <td>2</td>\n",
       "      <td>a</td>\n",
       "      <td>10</td>\n",
       "      <td>7.0</td>\n",
       "    </tr>\n",
       "  </tbody>\n",
       "</table>\n",
       "</div>"
      ],
      "text/plain": [
       "   A  B   C    D\n",
       "0  1  a   2  1.0\n",
       "1  1  b   4  2.0\n",
       "2  1  a   6  NaN\n",
       "3  2  b   8  7.0\n",
       "4  2  a  10  7.0"
      ]
     },
     "execution_count": 369,
     "metadata": {},
     "output_type": "execute_result"
    }
   ],
   "source": [
    "df = pd.read_excel('Parameters.xlsx', sheet_name = 'Data')\n",
    "df"
   ]
  },
  {
   "cell_type": "code",
   "execution_count": 370,
   "metadata": {},
   "outputs": [],
   "source": [
    "def convert_to_pandas(d, w):\n",
    "\n",
    "    # Remove WHERE\n",
    "    w = w[6:]\n",
    "    \n",
    "    # Uppercase AND, IN, NOT, ...\n",
    "    w = re.compile(re.escape(' AND '), re.IGNORECASE).sub(' AND ', w)\n",
    "    w = re.compile(re.escape(' IN '), re.IGNORECASE).sub(' IN ', w)\n",
    "    w = re.compile(re.escape(' NOT '), re.IGNORECASE).sub(' NOT ', w)\n",
    "    w = re.compile(re.escape(' IS '), re.IGNORECASE).sub(' IS ', w)\n",
    "    w = re.compile(re.escape(' NULL '), re.IGNORECASE).sub(' NULL ', w)\n",
    "    w = re.compile(re.escape(' IS NULL'), re.IGNORECASE).sub(' IS NULL', w)\n",
    "    w = re.compile(re.escape(' IS NOT NULL'), re.IGNORECASE).sub(' IS NOT NULL', w)\n",
    "        \n",
    "    # Split into separete statements\n",
    "    w = [x.strip() for x in w.split(' AND ')]\n",
    "\n",
    "    # Fix the = filters\n",
    "    w = [x.replace(' = ', ' == ') for x in w]\n",
    "        \n",
    "    # Fix the IN filters\n",
    "    w = [x.replace(' IN ', '.isin') for x in w]\n",
    "    \n",
    "    # Fix the NOT IN filters\n",
    "    w = ['~' + x if 'NOT.isin' in x else x for x in w]\n",
    "    w = [x.replace('NOT.isin', '.isin', 1) for x in w]\n",
    "    \n",
    "    # Fix the IS NULL filters\n",
    "    w = [x.replace(' IS NULL ', '.isnull()') for x in w]\n",
    "    w = [x.replace(' IS NULL', '.isnull()') for x in w]\n",
    "\n",
    "    \n",
    "    # Fix the IS NOT NULL filters\n",
    "    w = ['~' + x.replace(' IS NOT NULL ', '.isnull()') if 'IS NOT NULL ' in x else x for x in w]\n",
    "    w = ['~' + x.replace(' IS NOT NULL', '.isnull()') if 'IS NOT NULL' in x else x for x in w]\n",
    "\n",
    "\n",
    "    \n",
    "    # Turn into a filter statement\n",
    "    w = [x.replace('(', '([', 1).replace(')', '])', 1) if '.isin' in x else x for x in w]\n",
    "    out = []\n",
    "    for x in w:\n",
    "        if '~' in x:\n",
    "            out.append('~' + d + \"['\" + x[1] + \"']\" + x[2:])\n",
    "        else:\n",
    "            out.append(d + \"['\" + x[0] + \"']\" + x[1:])\n",
    "    \n",
    "    out = ['(' + x + ')' for x in out]\n",
    "\n",
    "    # Join into a single string\n",
    "    out = ' & '.join(out)\n",
    "    out = d + '[' + out + ']'\n",
    "    \n",
    "    # last fix\n",
    "    out = out.replace('] .isin', '].isin')\n",
    "    \n",
    "    return(out)"
   ]
  },
  {
   "cell_type": "code",
   "execution_count": 371,
   "metadata": {},
   "outputs": [
    {
     "name": "stdout",
     "output_type": "stream",
     "text": [
      "df[(df['A'].isin([1, 2])) & (~df['B'].isnull()) & (~df['D'].isnull()) & (df['D'].isin([1, 7]))]\n"
     ]
    }
   ],
   "source": [
    "print(convert_to_pandas('df', a))"
   ]
  },
  {
   "cell_type": "code",
   "execution_count": 372,
   "metadata": {},
   "outputs": [],
   "source": [
    "exec('filter_df = ' + convert_to_pandas('df', a))"
   ]
  },
  {
   "cell_type": "code",
   "execution_count": 373,
   "metadata": {},
   "outputs": [
    {
     "data": {
      "text/html": [
       "<div>\n",
       "<style scoped>\n",
       "    .dataframe tbody tr th:only-of-type {\n",
       "        vertical-align: middle;\n",
       "    }\n",
       "\n",
       "    .dataframe tbody tr th {\n",
       "        vertical-align: top;\n",
       "    }\n",
       "\n",
       "    .dataframe thead th {\n",
       "        text-align: right;\n",
       "    }\n",
       "</style>\n",
       "<table border=\"1\" class=\"dataframe\">\n",
       "  <thead>\n",
       "    <tr style=\"text-align: right;\">\n",
       "      <th></th>\n",
       "      <th>A</th>\n",
       "      <th>B</th>\n",
       "      <th>C</th>\n",
       "      <th>D</th>\n",
       "    </tr>\n",
       "  </thead>\n",
       "  <tbody>\n",
       "    <tr>\n",
       "      <th>0</th>\n",
       "      <td>1</td>\n",
       "      <td>a</td>\n",
       "      <td>2</td>\n",
       "      <td>1.0</td>\n",
       "    </tr>\n",
       "    <tr>\n",
       "      <th>3</th>\n",
       "      <td>2</td>\n",
       "      <td>b</td>\n",
       "      <td>8</td>\n",
       "      <td>7.0</td>\n",
       "    </tr>\n",
       "    <tr>\n",
       "      <th>4</th>\n",
       "      <td>2</td>\n",
       "      <td>a</td>\n",
       "      <td>10</td>\n",
       "      <td>7.0</td>\n",
       "    </tr>\n",
       "  </tbody>\n",
       "</table>\n",
       "</div>"
      ],
      "text/plain": [
       "   A  B   C    D\n",
       "0  1  a   2  1.0\n",
       "3  2  b   8  7.0\n",
       "4  2  a  10  7.0"
      ]
     },
     "execution_count": 373,
     "metadata": {},
     "output_type": "execute_result"
    }
   ],
   "source": [
    "filter_df"
   ]
  },
  {
   "cell_type": "code",
   "execution_count": 374,
   "metadata": {},
   "outputs": [
    {
     "data": {
      "text/html": [
       "<div>\n",
       "<style scoped>\n",
       "    .dataframe tbody tr th:only-of-type {\n",
       "        vertical-align: middle;\n",
       "    }\n",
       "\n",
       "    .dataframe tbody tr th {\n",
       "        vertical-align: top;\n",
       "    }\n",
       "\n",
       "    .dataframe thead th {\n",
       "        text-align: right;\n",
       "    }\n",
       "</style>\n",
       "<table border=\"1\" class=\"dataframe\">\n",
       "  <thead>\n",
       "    <tr style=\"text-align: right;\">\n",
       "      <th></th>\n",
       "      <th>A</th>\n",
       "      <th>B</th>\n",
       "      <th>C</th>\n",
       "      <th>D</th>\n",
       "    </tr>\n",
       "  </thead>\n",
       "  <tbody>\n",
       "    <tr>\n",
       "      <th>0</th>\n",
       "      <td>1</td>\n",
       "      <td>a</td>\n",
       "      <td>2</td>\n",
       "      <td>1.0</td>\n",
       "    </tr>\n",
       "    <tr>\n",
       "      <th>1</th>\n",
       "      <td>1</td>\n",
       "      <td>b</td>\n",
       "      <td>4</td>\n",
       "      <td>2.0</td>\n",
       "    </tr>\n",
       "    <tr>\n",
       "      <th>2</th>\n",
       "      <td>1</td>\n",
       "      <td>a</td>\n",
       "      <td>6</td>\n",
       "      <td>NaN</td>\n",
       "    </tr>\n",
       "    <tr>\n",
       "      <th>3</th>\n",
       "      <td>2</td>\n",
       "      <td>b</td>\n",
       "      <td>8</td>\n",
       "      <td>7.0</td>\n",
       "    </tr>\n",
       "    <tr>\n",
       "      <th>4</th>\n",
       "      <td>2</td>\n",
       "      <td>a</td>\n",
       "      <td>10</td>\n",
       "      <td>7.0</td>\n",
       "    </tr>\n",
       "  </tbody>\n",
       "</table>\n",
       "</div>"
      ],
      "text/plain": [
       "   A  B   C    D\n",
       "0  1  a   2  1.0\n",
       "1  1  b   4  2.0\n",
       "2  1  a   6  NaN\n",
       "3  2  b   8  7.0\n",
       "4  2  a  10  7.0"
      ]
     },
     "execution_count": 374,
     "metadata": {},
     "output_type": "execute_result"
    }
   ],
   "source": [
    "df"
   ]
  },
  {
   "cell_type": "code",
   "execution_count": null,
   "metadata": {},
   "outputs": [],
   "source": []
  }
 ],
 "metadata": {
  "kernelspec": {
   "display_name": "Python 3",
   "language": "python",
   "name": "python3"
  },
  "language_info": {
   "codemirror_mode": {
    "name": "ipython",
    "version": 3
   },
   "file_extension": ".py",
   "mimetype": "text/x-python",
   "name": "python",
   "nbconvert_exporter": "python",
   "pygments_lexer": "ipython3",
   "version": "3.7.3"
  }
 },
 "nbformat": 4,
 "nbformat_minor": 4
}
